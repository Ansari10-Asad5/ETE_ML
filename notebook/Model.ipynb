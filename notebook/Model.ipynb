{
 "cells": [
  {
   "cell_type": "markdown",
   "id": "fc056b73",
   "metadata": {},
   "source": [
    "## Import Data and Required Libraries"
   ]
  },
  {
   "cell_type": "code",
   "execution_count": 1,
   "id": "80d18da3",
   "metadata": {},
   "outputs": [],
   "source": [
    "import pandas as pd\n",
    "import numpy as np\n",
    "import matplotlib.pyplot as plt\n",
    "import seaborn as sns\n",
    "\n",
    "from sklearn.metrics import mean_squared_error, r2_score,mean_absolute_error\n",
    "from sklearn.neighbors import KNeighborsRegressor\n",
    "from sklearn.tree import DecisionTreeRegressor\n",
    "from sklearn.ensemble import RandomForestRegressor\n",
    "from sklearn.svm import SVR\n",
    "from sklearn.linear_model import LinearRegression,Ridge,Lasso\n",
    "from sklearn.model_selection import RandomizedSearchCV\n",
    "from catboost import CatBoostRegressor\n",
    "from xgboost import XGBRegressor\n",
    "import warnings"
   ]
  },
  {
   "cell_type": "code",
   "execution_count": 2,
   "id": "50f97ddd",
   "metadata": {},
   "outputs": [
    {
     "data": {
      "text/html": [
       "<div>\n",
       "<style scoped>\n",
       "    .dataframe tbody tr th:only-of-type {\n",
       "        vertical-align: middle;\n",
       "    }\n",
       "\n",
       "    .dataframe tbody tr th {\n",
       "        vertical-align: top;\n",
       "    }\n",
       "\n",
       "    .dataframe thead th {\n",
       "        text-align: right;\n",
       "    }\n",
       "</style>\n",
       "<table border=\"1\" class=\"dataframe\">\n",
       "  <thead>\n",
       "    <tr style=\"text-align: right;\">\n",
       "      <th></th>\n",
       "      <th>gender</th>\n",
       "      <th>race_ethnicity</th>\n",
       "      <th>parental_level_of_education</th>\n",
       "      <th>lunch</th>\n",
       "      <th>test_preparation_course</th>\n",
       "      <th>math_score</th>\n",
       "      <th>reading_score</th>\n",
       "      <th>writing_score</th>\n",
       "    </tr>\n",
       "  </thead>\n",
       "  <tbody>\n",
       "    <tr>\n",
       "      <th>0</th>\n",
       "      <td>female</td>\n",
       "      <td>group B</td>\n",
       "      <td>bachelor's degree</td>\n",
       "      <td>standard</td>\n",
       "      <td>none</td>\n",
       "      <td>72</td>\n",
       "      <td>72</td>\n",
       "      <td>74</td>\n",
       "    </tr>\n",
       "    <tr>\n",
       "      <th>1</th>\n",
       "      <td>female</td>\n",
       "      <td>group C</td>\n",
       "      <td>some college</td>\n",
       "      <td>standard</td>\n",
       "      <td>completed</td>\n",
       "      <td>69</td>\n",
       "      <td>90</td>\n",
       "      <td>88</td>\n",
       "    </tr>\n",
       "  </tbody>\n",
       "</table>\n",
       "</div>"
      ],
      "text/plain": [
       "   gender race_ethnicity parental_level_of_education     lunch  \\\n",
       "0  female        group B           bachelor's degree  standard   \n",
       "1  female        group C                some college  standard   \n",
       "\n",
       "  test_preparation_course  math_score  reading_score  writing_score  \n",
       "0                    none          72             72             74  \n",
       "1               completed          69             90             88  "
      ]
     },
     "execution_count": 2,
     "metadata": {},
     "output_type": "execute_result"
    }
   ],
   "source": [
    "data = pd.read_csv('stud.csv')\n",
    "data.head(2)"
   ]
  },
  {
   "cell_type": "code",
   "execution_count": 3,
   "id": "79a25e78",
   "metadata": {},
   "outputs": [
    {
     "data": {
      "text/html": [
       "<div>\n",
       "<style scoped>\n",
       "    .dataframe tbody tr th:only-of-type {\n",
       "        vertical-align: middle;\n",
       "    }\n",
       "\n",
       "    .dataframe tbody tr th {\n",
       "        vertical-align: top;\n",
       "    }\n",
       "\n",
       "    .dataframe thead th {\n",
       "        text-align: right;\n",
       "    }\n",
       "</style>\n",
       "<table border=\"1\" class=\"dataframe\">\n",
       "  <thead>\n",
       "    <tr style=\"text-align: right;\">\n",
       "      <th></th>\n",
       "      <th>gender</th>\n",
       "      <th>race_ethnicity</th>\n",
       "      <th>parental_level_of_education</th>\n",
       "      <th>lunch</th>\n",
       "      <th>test_preparation_course</th>\n",
       "      <th>reading_score</th>\n",
       "      <th>writing_score</th>\n",
       "    </tr>\n",
       "  </thead>\n",
       "  <tbody>\n",
       "    <tr>\n",
       "      <th>0</th>\n",
       "      <td>female</td>\n",
       "      <td>group B</td>\n",
       "      <td>bachelor's degree</td>\n",
       "      <td>standard</td>\n",
       "      <td>none</td>\n",
       "      <td>72</td>\n",
       "      <td>74</td>\n",
       "    </tr>\n",
       "    <tr>\n",
       "      <th>1</th>\n",
       "      <td>female</td>\n",
       "      <td>group C</td>\n",
       "      <td>some college</td>\n",
       "      <td>standard</td>\n",
       "      <td>completed</td>\n",
       "      <td>90</td>\n",
       "      <td>88</td>\n",
       "    </tr>\n",
       "  </tbody>\n",
       "</table>\n",
       "</div>"
      ],
      "text/plain": [
       "   gender race_ethnicity parental_level_of_education     lunch  \\\n",
       "0  female        group B           bachelor's degree  standard   \n",
       "1  female        group C                some college  standard   \n",
       "\n",
       "  test_preparation_course  reading_score  writing_score  \n",
       "0                    none             72             74  \n",
       "1               completed             90             88  "
      ]
     },
     "execution_count": 3,
     "metadata": {},
     "output_type": "execute_result"
    }
   ],
   "source": [
    "X=data.drop('math_score',axis=1)\n",
    "X.head(2)"
   ]
  },
  {
   "cell_type": "code",
   "execution_count": 4,
   "id": "04652cd9",
   "metadata": {},
   "outputs": [
    {
     "data": {
      "text/plain": [
       "0    72\n",
       "1    69\n",
       "2    90\n",
       "3    47\n",
       "4    76\n",
       "Name: math_score, dtype: int64"
      ]
     },
     "execution_count": 4,
     "metadata": {},
     "output_type": "execute_result"
    }
   ],
   "source": [
    "Y=data['math_score']\n",
    "Y.head()"
   ]
  },
  {
   "cell_type": "markdown",
   "id": "4f5d8811",
   "metadata": {},
   "source": [
    "## Feature Sclaing and Transforming"
   ]
  },
  {
   "cell_type": "code",
   "execution_count": 5,
   "id": "35c35445",
   "metadata": {},
   "outputs": [],
   "source": [
    "numerical_features=X.select_dtypes(exclude='object').columns\n",
    "categorical_features=X.select_dtypes(include='object').columns\n",
    "\n",
    "from sklearn.preprocessing import StandardScaler, OneHotEncoder\n",
    "from sklearn.compose import ColumnTransformer\n",
    "\n",
    "std=StandardScaler()\n",
    "oh=OneHotEncoder()\n",
    "\n",
    "preprocessor=ColumnTransformer([(\"One Hot Encoder\",oh,categorical_features),\n",
    "                               (\"Standard Scaler\",std,numerical_features)])"
   ]
  },
  {
   "cell_type": "code",
   "execution_count": 6,
   "id": "d41b9260",
   "metadata": {},
   "outputs": [
    {
     "data": {
      "text/plain": [
       "(1000, 19)"
      ]
     },
     "execution_count": 6,
     "metadata": {},
     "output_type": "execute_result"
    }
   ],
   "source": [
    "X=preprocessor.fit_transform(X)\n",
    "X.shape"
   ]
  },
  {
   "cell_type": "markdown",
   "id": "42209826",
   "metadata": {},
   "source": [
    "## Model Split"
   ]
  },
  {
   "cell_type": "code",
   "execution_count": 7,
   "id": "aba071af",
   "metadata": {},
   "outputs": [],
   "source": [
    "from sklearn.model_selection import train_test_split\n",
    "x_train,x_test,y_train,y_test=train_test_split(X,Y,test_size=0.3,random_state=101)"
   ]
  },
  {
   "cell_type": "markdown",
   "id": "a7b71e4f",
   "metadata": {},
   "source": [
    "## Model Training, Testing and Evaluation"
   ]
  },
  {
   "cell_type": "code",
   "execution_count": 8,
   "id": "a6465eaf",
   "metadata": {},
   "outputs": [
    {
     "name": "stdout",
     "output_type": "stream",
     "text": [
      "LinearRegression\n",
      "Model Performance for Training Set:\n",
      "- Mean Absolute Error:  4.0\n",
      "- Root Mean Squared Error:  5.361337606516466\n",
      "- R2 Score:  0.8820119671224101\n",
      "----------------------------------------\n",
      "Model Performance for Testing Set:\n",
      "- Mean Absolute Error:  4.306901041666666\n",
      "- Root Mean Squared Error:  5.348387944144872\n",
      "- R2 Score:  0.8549347594468542\n",
      "========================================\n",
      "Ridge\n",
      "Model Performance for Training Set:\n",
      "- Mean Absolute Error:  4.0\n",
      "- Root Mean Squared Error:  5.353786427928747\n",
      "- R2 Score:  0.8823440936715078\n",
      "----------------------------------------\n",
      "Model Performance for Testing Set:\n",
      "- Mean Absolute Error:  4.285777389673705\n",
      "- Root Mean Squared Error:  5.3276242510099685\n",
      "- R2 Score:  0.8560589274584179\n",
      "========================================\n",
      "Lasso\n",
      "Model Performance for Training Set:\n",
      "- Mean Absolute Error:  5.0\n",
      "- Root Mean Squared Error:  6.565933556728284\n",
      "- R2 Score:  0.823036126416214\n",
      "----------------------------------------\n",
      "Model Performance for Testing Set:\n",
      "- Mean Absolute Error:  4.627085870255014\n",
      "- Root Mean Squared Error:  5.8838914922014425\n",
      "- R2 Score:  0.8244313901910156\n",
      "========================================\n",
      "KNeighborsRegressor\n",
      "Model Performance for Training Set:\n",
      "- Mean Absolute Error:  5.0\n",
      "- Root Mean Squared Error:  5.869869796560349\n",
      "- R2 Score:  0.8585677062628282\n",
      "----------------------------------------\n",
      "Model Performance for Testing Set:\n",
      "- Mean Absolute Error:  5.601999999999999\n",
      "- Root Mean Squared Error:  6.9013525244452385\n",
      "- R2 Score:  0.7584617118386207\n",
      "========================================\n",
      "DecisionTreeRegressor\n",
      "Model Performance for Training Set:\n",
      "- Mean Absolute Error:  0.0\n",
      "- Root Mean Squared Error:  0.0\n",
      "- R2 Score:  1.0\n",
      "----------------------------------------\n",
      "Model Performance for Testing Set:\n",
      "- Mean Absolute Error:  6.373333333333333\n",
      "- Root Mean Squared Error:  8.24257241399795\n",
      "- R2 Score:  0.6554572603820364\n",
      "========================================\n",
      "RandomForestRegressor\n",
      "Model Performance for Training Set:\n",
      "- Mean Absolute Error:  2.0\n",
      "- Root Mean Squared Error:  2.2925178298107083\n",
      "- R2 Score:  0.9784266746642626\n",
      "----------------------------------------\n",
      "Model Performance for Testing Set:\n",
      "- Mean Absolute Error:  4.961033333333334\n",
      "- Root Mean Squared Error:  6.087915160381262\n",
      "- R2 Score:  0.812044627824421\n",
      "========================================\n",
      "<catboost.core.CatBoostRegressor object at 0x00000234E68938D\n",
      "Model Performance for Training Set:\n",
      "- Mean Absolute Error:  2.0\n",
      "- Root Mean Squared Error:  2.772839085506727\n",
      "- R2 Score:  0.9684397101487826\n",
      "----------------------------------------\n",
      "Model Performance for Testing Set:\n",
      "- Mean Absolute Error:  4.631351186052776\n",
      "- Root Mean Squared Error:  5.7396691664963155\n",
      "- R2 Score:  0.8329327665140832\n",
      "========================================\n",
      "XGBRegressor(base_score=None, booster=None, callbacks=None,\n",
      "             colsample_bylevel=None, colsample_bynode=None,\n",
      "             colsample_bytree=None, early_stopping_rounds=None,\n",
      "             enable_categorical=False, eval_metric=None, feature_types=None,\n",
      "             gamma=None, gpu_id=None, grow_policy=None, importance_type=None,\n",
      "             interaction_constraints=None, learning_rate=None, max_bin=None,\n",
      "             max_cat_threshold=None, max_cat_to_onehot=None,\n",
      "             max_delta_step=None, max_depth=None, max_leaves=None,\n",
      "             min_child_weight=None, missing=nan, monotone_constraints=None,\n",
      "             n_estimators=100, n_jobs=None, num_parallel_tree=None,\n",
      "             predictor=None, random_state=None, ..\n",
      "Model Performance for Training Set:\n",
      "- Mean Absolute Error:  1.0\n",
      "- Root Mean Squared Error:  0.7671687893295539\n",
      "- R2 Score:  0.9975841303321238\n",
      "----------------------------------------\n",
      "Model Performance for Testing Set:\n",
      "- Mean Absolute Error:  5.24968058904012\n",
      "- Root Mean Squared Error:  6.408966043167691\n",
      "- R2 Score:  0.7916979705402103\n",
      "========================================\n"
     ]
    }
   ],
   "source": [
    "regression_models = [LinearRegression(),Ridge(),Lasso(),KNeighborsRegressor(),DecisionTreeRegressor(),\n",
    "                     RandomForestRegressor(),CatBoostRegressor(verbose=False),XGBRegressor()]\n",
    "warnings.filterwarnings('ignore')\n",
    "\n",
    "model_list=[]\n",
    "r2_list=[]\n",
    "\n",
    "for i in regression_models:\n",
    "    model = i\n",
    "    model.fit(x_train,y_train)\n",
    "    \n",
    "    y_train_pred=model.predict(x_train)\n",
    "    y_test_pred=model.predict(x_test)\n",
    "    \n",
    "    train_mae=mean_absolute_error(y_train,y_train_pred)\n",
    "    test_mae=mean_absolute_error(y_test,y_test_pred)\n",
    "    \n",
    "    train_rmse=np.sqrt(mean_squared_error(y_train,y_train_pred))\n",
    "    test_rmse=np.sqrt(mean_squared_error(y_test,y_test_pred))\n",
    "    \n",
    "    train_r2=r2_score(y_train,y_train_pred)\n",
    "    test_r2=r2_score(y_test,y_test_pred)\n",
    "    \n",
    "    print(str(i)[:-2])\n",
    "    model_list.append(str(i)[:-2])\n",
    "    r2_list.append(test_r2)\n",
    "    \n",
    "    print(\"Model Performance for Training Set:\")\n",
    "    print(\"- Mean Absolute Error: \",train_mae.round())\n",
    "    print(\"- Root Mean Squared Error: \",train_rmse)\n",
    "    print(\"- R2 Score: \",train_r2)\n",
    "    print('--'*20)\n",
    "    \n",
    "    print(\"Model Performance for Testing Set:\")\n",
    "    print(\"- Mean Absolute Error: \",test_mae)\n",
    "    print(\"- Root Mean Squared Error: \",test_rmse)\n",
    "    print(\"- R2 Score: \",test_r2)\n",
    "    print('=='*20)"
   ]
  },
  {
   "cell_type": "markdown",
   "id": "72730283",
   "metadata": {},
   "source": [
    "## Result"
   ]
  },
  {
   "cell_type": "code",
   "execution_count": 9,
   "id": "672fa107",
   "metadata": {},
   "outputs": [
    {
     "data": {
      "text/html": [
       "<div>\n",
       "<style scoped>\n",
       "    .dataframe tbody tr th:only-of-type {\n",
       "        vertical-align: middle;\n",
       "    }\n",
       "\n",
       "    .dataframe tbody tr th {\n",
       "        vertical-align: top;\n",
       "    }\n",
       "\n",
       "    .dataframe thead th {\n",
       "        text-align: right;\n",
       "    }\n",
       "</style>\n",
       "<table border=\"1\" class=\"dataframe\">\n",
       "  <thead>\n",
       "    <tr style=\"text-align: right;\">\n",
       "      <th></th>\n",
       "      <th>Models</th>\n",
       "      <th>R2_Score</th>\n",
       "    </tr>\n",
       "  </thead>\n",
       "  <tbody>\n",
       "    <tr>\n",
       "      <th>1</th>\n",
       "      <td>Ridge</td>\n",
       "      <td>0.856059</td>\n",
       "    </tr>\n",
       "    <tr>\n",
       "      <th>0</th>\n",
       "      <td>LinearRegression</td>\n",
       "      <td>0.854935</td>\n",
       "    </tr>\n",
       "    <tr>\n",
       "      <th>6</th>\n",
       "      <td>&lt;catboost.core.CatBoostRegressor object at 0x0...</td>\n",
       "      <td>0.832933</td>\n",
       "    </tr>\n",
       "    <tr>\n",
       "      <th>2</th>\n",
       "      <td>Lasso</td>\n",
       "      <td>0.824431</td>\n",
       "    </tr>\n",
       "    <tr>\n",
       "      <th>5</th>\n",
       "      <td>RandomForestRegressor</td>\n",
       "      <td>0.812045</td>\n",
       "    </tr>\n",
       "    <tr>\n",
       "      <th>7</th>\n",
       "      <td>XGBRegressor(base_score=None, booster=None, ca...</td>\n",
       "      <td>0.791698</td>\n",
       "    </tr>\n",
       "    <tr>\n",
       "      <th>3</th>\n",
       "      <td>KNeighborsRegressor</td>\n",
       "      <td>0.758462</td>\n",
       "    </tr>\n",
       "    <tr>\n",
       "      <th>4</th>\n",
       "      <td>DecisionTreeRegressor</td>\n",
       "      <td>0.655457</td>\n",
       "    </tr>\n",
       "  </tbody>\n",
       "</table>\n",
       "</div>"
      ],
      "text/plain": [
       "                                              Models  R2_Score\n",
       "1                                              Ridge  0.856059\n",
       "0                                   LinearRegression  0.854935\n",
       "6  <catboost.core.CatBoostRegressor object at 0x0...  0.832933\n",
       "2                                              Lasso  0.824431\n",
       "5                              RandomForestRegressor  0.812045\n",
       "7  XGBRegressor(base_score=None, booster=None, ca...  0.791698\n",
       "3                                KNeighborsRegressor  0.758462\n",
       "4                              DecisionTreeRegressor  0.655457"
      ]
     },
     "execution_count": 9,
     "metadata": {},
     "output_type": "execute_result"
    }
   ],
   "source": [
    "pd.DataFrame(list(zip(model_list,r2_list)),columns=['Models','R2_Score']).sort_values(by='R2_Score',ascending=False)"
   ]
  },
  {
   "cell_type": "code",
   "execution_count": 10,
   "id": "44309476",
   "metadata": {},
   "outputs": [
    {
     "name": "stdout",
     "output_type": "stream",
     "text": [
      "R2 Score of the Model is:  0.8549347594468542\n"
     ]
    }
   ],
   "source": [
    "model=LinearRegression(fit_intercept=True)\n",
    "model.fit(x_train,y_train)\n",
    "y_pred=model.predict(x_test)\n",
    "score=r2_score(y_test,y_pred)\n",
    "print(\"R2 Score of the Model is: \",score)"
   ]
  },
  {
   "cell_type": "code",
   "execution_count": 11,
   "id": "3df52cc2",
   "metadata": {},
   "outputs": [
    {
     "data": {
      "text/plain": [
       "Text(0, 0.5, 'Predicted Values')"
      ]
     },
     "execution_count": 11,
     "metadata": {},
     "output_type": "execute_result"
    },
    {
     "data": {
      "image/png": "[encoded data removed]",
      "text/plain": [
       "<Figure size 640x480 with 1 Axes>"
      ]
     },
     "metadata": {},
     "output_type": "display_data"
    }
   ],
   "source": [
    "plt.scatter(y_test,y_pred)\n",
    "plt.xlabel('Actual Values')\n",
    "plt.ylabel('Predicted Values')"
   ]
  },
  {
   "cell_type": "code",
   "execution_count": 12,
   "id": "d390a64b",
   "metadata": {},
   "outputs": [
    {
     "data": {
      "text/plain": [
       "<Axes: xlabel='math_score'>"
      ]
     },
     "execution_count": 12,
     "metadata": {},
     "output_type": "execute_result"
    },
    {
     "data": {
      "image/png": "[encoded data removed]",
      "text/plain": [
       "<Figure size 640x480 with 1 Axes>"
      ]
     },
     "metadata": {},
     "output_type": "display_data"
    }
   ],
   "source": [
    "sns.regplot(x=y_test,y=y_pred)"
   ]
  },
  {
   "cell_type": "code",
   "execution_count": null,
   "id": "ca191ca4",
   "metadata": {},
   "outputs": [],
   "source": []
  }
 ],
 "metadata": {
  "kernelspec": {
   "display_name": "Python 3 (ipykernel)",
   "language": "python",
   "name": "python3"
  },
  "language_info": {
   "codemirror_mode": {
    "name": "ipython",
    "version": 3
   },
   "file_extension": ".py",
   "mimetype": "text/x-python",
   "name": "python",
   "nbconvert_exporter": "python",
   "pygments_lexer": "ipython3",
   "version": "3.11.4"
  }
 },
 "nbformat": 4,
 "nbformat_minor": 5
}
